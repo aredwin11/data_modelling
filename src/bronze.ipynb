{
 "cells": [
  {
   "cell_type": "code",
   "execution_count": 0,
   "metadata": {
    "application/vnd.databricks.v1+cell": {
     "cellMetadata": {
      "byteLimit": 2048000,
      "rowLimit": 10000
     },
     "inputWidgets": {},
     "nuid": "4598ce31-f7aa-4638-a8c4-3ee14d34b5cc",
     "showTitle": false,
     "tableResultSettingsMap": {},
     "title": ""
    }
   },
   "outputs": [],
   "source": [
    "from pyspark.sql import SparkSession\n",
    "from pyspark.sql.types import StructType, StructField, StringType, IntegerType\n",
    "\n",
    "schema=StructType([\n",
    "    StructField('show_id', StringType(), True),\n",
    "    StructField('type', StringType(), True),\n",
    "    StructField('title', StringType(), True),\n",
    "    StructField('director', StringType(), True),\n",
    "    StructField('cast', StringType(), True),\n",
    "    StructField('country', StringType(), True),\n",
    "    StructField('date_added', StringType(), True),\n",
    "    StructField('release_year', IntegerType(), True),\n",
    "    StructField('rating', StringType(), True),\n",
    "    StructField('duration', StringType(), True),\n",
    "    StructField('listed_in', StringType(), True),\n",
    "    StructField('description', StringType(), True)\n",
    "])\n",
    "df = spark.read.format('csv').schema(schema).option('header', 'true').load('/Volumes/datamodeling/default/source_files/netflix_titles.csv')\n",
    "df.show()\n",
    "display(df)\n",
    "df.printSchema()\n"
   ]
  },
  {
   "cell_type": "code",
   "execution_count": 0,
   "metadata": {
    "application/vnd.databricks.v1+cell": {
     "cellMetadata": {
      "byteLimit": 2048000,
      "rowLimit": 10000
     },
     "inputWidgets": {},
     "nuid": "6ffb3536-a55c-44b9-b8ad-87058e7c5483",
     "showTitle": false,
     "tableResultSettingsMap": {},
     "title": ""
    }
   },
   "outputs": [],
   "source": [
    "from pyspark.sql.functions import current_timestamp, col\n",
    "\n",
    "bronze_df = df.withColumn(\"ingestion_date\", current_timestamp()).withColumn(\"source_file\", col(\"_metadata.file_path\"))\n",
    "\n"
   ]
  },
  {
   "cell_type": "code",
   "execution_count": 0,
   "metadata": {
    "application/vnd.databricks.v1+cell": {
     "cellMetadata": {
      "byteLimit": 2048000,
      "rowLimit": 10000
     },
     "inputWidgets": {},
     "nuid": "57c321fd-470c-475a-84f8-b6ed730b421b",
     "showTitle": false,
     "tableResultSettingsMap": {},
     "title": ""
    }
   },
   "outputs": [],
   "source": [
    "bronze_df.write.format(\"delta\").mode(\"overwrite\").saveAsTable(\"datamodeling.bronze.bronze_source\")\n"
   ]
  },
  {
   "cell_type": "code",
   "execution_count": 0,
   "metadata": {
    "application/vnd.databricks.v1+cell": {
     "cellMetadata": {
      "byteLimit": 2048000,
      "rowLimit": 10000
     },
     "inputWidgets": {},
     "nuid": "3126cbc6-1e55-4ada-b480-b70a3fa0cddf",
     "showTitle": false,
     "tableResultSettingsMap": {},
     "title": ""
    }
   },
   "outputs": [],
   "source": [
    "display(spark.sql(\"SELECT * FROM bronze_source\"))"
   ]
  }
 ],
 "metadata": {
  "application/vnd.databricks.v1+notebook": {
   "computePreferences": {
    "hardware": {
     "accelerator": null,
     "gpuPoolId": null,
     "memory": null
    }
   },
   "dashboards": [],
   "environmentMetadata": {
    "base_environment": "",
    "environment_version": "2"
   },
   "inputWidgetPreferences": null,
   "language": "python",
   "notebookMetadata": {
    "pythonIndentUnit": 4
   },
   "notebookName": "bronze",
   "widgets": {}
  },
  "language_info": {
   "name": "python"
  }
 },
 "nbformat": 4,
 "nbformat_minor": 0
}
