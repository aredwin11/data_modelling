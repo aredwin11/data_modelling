{
 "cells": [
  {
   "cell_type": "code",
   "execution_count": 0,
   "metadata": {
    "application/vnd.databricks.v1+cell": {
     "cellMetadata": {
      "byteLimit": 2048000,
      "rowLimit": 10000
     },
     "inputWidgets": {},
     "nuid": "32db304e-bbc6-4580-8d18-43ddcb3ef624",
     "showTitle": false,
     "tableResultSettingsMap": {},
     "title": ""
    }
   },
   "outputs": [],
   "source": [
    "bronze_df=spark.sql(\"SELECT * FROM datamodeling.bronze.bronze_source\")\n",
    "display(bronze_df)"
   ]
  },
  {
   "cell_type": "code",
   "execution_count": 0,
   "metadata": {
    "application/vnd.databricks.v1+cell": {
     "cellMetadata": {
      "byteLimit": 2048000,
      "rowLimit": 10000
     },
     "inputWidgets": {},
     "nuid": "1ef89345-0909-4278-8ec0-3d413aab52da",
     "showTitle": false,
     "tableResultSettingsMap": {},
     "title": ""
    }
   },
   "outputs": [],
   "source": [
    "from pyspark.sql.functions import col\n",
    "\n",
    "silver_df=bronze_df.filter(col(\"show_id\").isNotNull()&col(\"title\").isNotNull()&col(\"director\").isNotNull()&col(\"cast\").isNotNull()&col(\"release_year\").isNotNull()&col(\"rating\").isNotNull()&col(\"country\").isNotNull()&col(\"date_added\").isNotNull()&col(\"description\").isNotNull())\n",
    "display(silver_df)"
   ]
  },
  {
   "cell_type": "code",
   "execution_count": 0,
   "metadata": {
    "application/vnd.databricks.v1+cell": {
     "cellMetadata": {
      "byteLimit": 2048000,
      "rowLimit": 10000
     },
     "inputWidgets": {},
     "nuid": "ff326e34-db21-431c-a8a0-b143d608647f",
     "showTitle": false,
     "tableResultSettingsMap": {},
     "title": ""
    },
    "jupyter": {
     "outputs_hidden": true
    }
   },
   "outputs": [],
   "source": [
    "# directors_df=silver_df.filter((col(\"director\").isNotNull()) & (col(\"director\") != 'unknown'))\n",
    "# display(directors_df)"
   ]
  },
  {
   "cell_type": "code",
   "execution_count": 0,
   "metadata": {
    "application/vnd.databricks.v1+cell": {
     "cellMetadata": {
      "byteLimit": 2048000,
      "rowLimit": 10000
     },
     "inputWidgets": {},
     "nuid": "abf4d192-07e6-4900-9a79-d89fc04f38c8",
     "showTitle": false,
     "tableResultSettingsMap": {},
     "title": ""
    },
    "jupyter": {
     "outputs_hidden": true
    }
   },
   "outputs": [],
   "source": [
    "# from pyspark.sql.functions import count\n",
    "\n",
    "# director_counts = directors_df.groupBy(\"director\").agg(count(\"*\").alias(\"num_titles\")).orderBy(col(\"num_titles\").desc())\n",
    "# display(director_counts)\n"
   ]
  },
  {
   "cell_type": "code",
   "execution_count": 0,
   "metadata": {
    "application/vnd.databricks.v1+cell": {
     "cellMetadata": {
      "byteLimit": 2048000,
      "rowLimit": 10000
     },
     "inputWidgets": {},
     "nuid": "561bfb86-e426-443b-99ab-8254919c7f37",
     "showTitle": false,
     "tableResultSettingsMap": {},
     "title": ""
    },
    "jupyter": {
     "outputs_hidden": true
    }
   },
   "outputs": [],
   "source": [
    "# display(silver_df.filter(col(\"release_year\")>2020))"
   ]
  },
  {
   "cell_type": "code",
   "execution_count": 0,
   "metadata": {
    "application/vnd.databricks.v1+cell": {
     "cellMetadata": {
      "byteLimit": 2048000,
      "rowLimit": 10000
     },
     "inputWidgets": {},
     "nuid": "7539c4d3-aa45-4f43-8ffb-24b2c2339d1f",
     "showTitle": false,
     "tableResultSettingsMap": {},
     "title": ""
    }
   },
   "outputs": [],
   "source": [
    "from pyspark.sql.functions import split, col,explode, trim\n",
    "\n",
    "silver_df = silver_df.withColumn(\"country_array\", split(col(\"country\"), \",\"))\n",
    "\n",
    "country_exploded_df = silver_df.withColumn(\"country\", explode(col(\"country_array\"))).withColumn(\"country\", trim(col(\"country\"))).drop(\"country_array\")\n",
    "display(country_exploded_df)\n",
    "\n"
   ]
  },
  {
   "cell_type": "code",
   "execution_count": 0,
   "metadata": {
    "application/vnd.databricks.v1+cell": {
     "cellMetadata": {
      "byteLimit": 2048000,
      "rowLimit": 10000
     },
     "inputWidgets": {},
     "nuid": "99b480ff-ef0d-45d5-8efa-0ec0a686ef9e",
     "showTitle": false,
     "tableResultSettingsMap": {
      "0": {
       "dataGridStateBlob": "{\"version\":1,\"tableState\":{\"columnPinning\":{\"left\":[\"#row_number#\"],\"right\":[]},\"columnSizing\":{},\"columnVisibility\":{}},\"settings\":{\"columns\":{}},\"syncTimestamp\":1755769392575}",
       "filterBlob": null,
       "queryPlanFiltersBlob": null,
       "tableResultIndex": 0
      }
     },
     "title": ""
    }
   },
   "outputs": [],
   "source": [
    "from pyspark.sql.functions import when, regexp_extract, col\n",
    "\n",
    "silver_df2 =country_exploded_df.withColumn(\"duration_minutes\",when(col(\"type\") == \"Movie\", regexp_extract(col(\"duration\"), r\"(\\d+)\", 1))).withColumn(\"duration_seasons\",when(col(\"type\") == \"TV Show\", regexp_extract(col(\"duration\"), r\"(\\d+)\", 1))).fillna({\"duration_minutes\":\"0\",\"duration_seasons\":0}).drop(\"duration\")\n",
    "display(silver_df2)\n"
   ]
  },
  {
   "cell_type": "code",
   "execution_count": 0,
   "metadata": {
    "application/vnd.databricks.v1+cell": {
     "cellMetadata": {
      "byteLimit": 2048000,
      "rowLimit": 10000
     },
     "inputWidgets": {},
     "nuid": "96c6a192-8141-43a2-83cb-b7e8693f2f79",
     "showTitle": false,
     "tableResultSettingsMap": {
      "0": {
       "dataGridStateBlob": "{\"version\":1,\"tableState\":{\"columnPinning\":{\"left\":[\"#row_number#\"],\"right\":[]},\"columnSizing\":{},\"columnVisibility\":{}},\"settings\":{\"columns\":{}},\"syncTimestamp\":1755854822810}",
       "filterBlob": "{\"version\":1,\"filterGroups\":[{\"enabled\":true,\"filterGroupId\":\"fg_a1b95542\",\"op\":\"OR\",\"filters\":[{\"filterId\":\"f_a8d226ca\",\"enabled\":true,\"columnId\":\"rating\",\"dataType\":\"string\",\"filterType\":\"oneof\"}],\"local\":false,\"updatedAt\":1755854879471}],\"syncTimestamp\":1755854879471}",
       "queryPlanFiltersBlob": "[]",
       "tableResultIndex": 0
      }
     },
     "title": ""
    }
   },
   "outputs": [],
   "source": [
    "from pyspark.sql.functions import to_date, trim, when, col, lit\n",
    "\n",
    "df_clean = silver_df2.withColumn(\n",
    "    \"date_added_clean\",\n",
    "    when(\n",
    "        to_date(trim(col(\"date_added\")), \"MMMM d, yyyy\").isNotNull(),\n",
    "        trim(col(\"date_added\"))\n",
    "    ).otherwise(lit(\"Unknown\"))\n",
    ")\n",
    "display(df_clean)"
   ]
  },
  {
   "cell_type": "code",
   "execution_count": 0,
   "metadata": {
    "application/vnd.databricks.v1+cell": {
     "cellMetadata": {
      "byteLimit": 2048000,
      "rowLimit": 10000
     },
     "inputWidgets": {},
     "nuid": "dbef6bb0-ff6a-4945-bcd0-b839f84fd2d9",
     "showTitle": false,
     "tableResultSettingsMap": {
      "0": {
       "dataGridStateBlob": null,
       "filterBlob": "{\"version\":1,\"filterGroups\":[],\"syncTimestamp\":1755783852635}",
       "queryPlanFiltersBlob": "[]",
       "tableResultIndex": 0
      }
     },
     "title": ""
    }
   },
   "outputs": [],
   "source": [
    "from pyspark.sql.functions import when, col, trim\n",
    "df_silver = df_clean .withColumn(\n",
    "    \"country\",\n",
    "    when((trim(col(\"country\")) == \"\") | (col(\"country\").isNull()), \"Unknown\")\n",
    "    .otherwise(col(\"country\"))\n",
    ")\n",
    "df_silver2 = df_silver.withColumn(\n",
    "    \"rating\",\n",
    "    when(col(\"rating\").rlike(\"(?i)min\"), \"Not Rated\")  # if contains \"min\" or \"Min\"\n",
    "    .otherwise(col(\"rating\"))\n",
    ")\n",
    "display(df_silver2)"
   ]
  },
  {
   "cell_type": "code",
   "execution_count": 0,
   "metadata": {
    "application/vnd.databricks.v1+cell": {
     "cellMetadata": {
      "byteLimit": 2048000,
      "rowLimit": 10000
     },
     "inputWidgets": {},
     "nuid": "c75d44f1-83da-4950-9334-f8673f172049",
     "showTitle": false,
     "tableResultSettingsMap": {},
     "title": ""
    }
   },
   "outputs": [],
   "source": [
    "df_silver2.write.format(\"delta\").mode(\"overwrite\").saveAsTable(\"datamodeling.silver.silver_source\")\n"
   ]
  },
  {
   "cell_type": "code",
   "execution_count": 0,
   "metadata": {
    "application/vnd.databricks.v1+cell": {
     "cellMetadata": {
      "byteLimit": 2048000,
      "rowLimit": 10000
     },
     "inputWidgets": {},
     "nuid": "20198008-f3ca-4720-a6b8-0cc72c7c1bdf",
     "showTitle": false,
     "tableResultSettingsMap": {},
     "title": ""
    }
   },
   "outputs": [],
   "source": [
    "display(spark.sql(\"SELECT * FROM datamodeling.silver.silver_source\"))"
   ]
  }
 ],
 "metadata": {
  "application/vnd.databricks.v1+notebook": {
   "computePreferences": {
    "hardware": {
     "accelerator": null,
     "gpuPoolId": null,
     "memory": null
    }
   },
   "dashboards": [],
   "environmentMetadata": {
    "base_environment": "",
    "environment_version": "3"
   },
   "inputWidgetPreferences": null,
   "language": "python",
   "notebookMetadata": {
    "pythonIndentUnit": 4
   },
   "notebookName": "silver",
   "widgets": {}
  },
  "language_info": {
   "name": "python"
  }
 },
 "nbformat": 4,
 "nbformat_minor": 0
}
