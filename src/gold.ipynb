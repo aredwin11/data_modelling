{
 "cells": [
  {
   "cell_type": "code",
   "execution_count": 0,
   "metadata": {
    "application/vnd.databricks.v1+cell": {
     "cellMetadata": {
      "byteLimit": 2048000,
      "implicitDf": true,
      "rowLimit": 10000
     },
     "inputWidgets": {},
     "nuid": "4461f7a8-2570-47fe-a73f-34cfea141363",
     "showTitle": false,
     "tableResultSettingsMap": {
      "0": {
       "dataGridStateBlob": "{\"version\":1,\"tableState\":{\"columnPinning\":{\"left\":[\"#row_number#\"],\"right\":[]},\"columnSizing\":{},\"columnVisibility\":{}},\"settings\":{\"columns\":{}},\"syncTimestamp\":1755779838348}",
       "filterBlob": null,
       "queryPlanFiltersBlob": null,
       "tableResultIndex": 0
      }
     },
     "title": ""
    }
   },
   "outputs": [],
   "source": [
    "%sql\n",
    "\n",
    "CREATE OR REPLACE TABLE datamodeling.gold.dimshow\n",
    "WITH rendup AS\n",
    "(\n",
    "SELECT\n",
    "    DISTINCT(show_id),\n",
    "    type,\n",
    "    title,\n",
    "    description,\n",
    "    duration_minutes,\n",
    "    duration_seasons\n",
    "FROM datamodeling.silver.silver_source\n",
    ")\n",
    "SELECT *,\n",
    "   row_number() OVER(ORDER BY show_id) as DIMSHOWKEY\n",
    "FROM rendup\n"
   ]
  },
  {
   "cell_type": "code",
   "execution_count": 0,
   "metadata": {
    "application/vnd.databricks.v1+cell": {
     "cellMetadata": {
      "byteLimit": 2048000,
      "implicitDf": true,
      "rowLimit": 10000
     },
     "inputWidgets": {},
     "nuid": "56fe17e7-5da9-4790-93bb-055000704729",
     "showTitle": false,
     "tableResultSettingsMap": {
      "0": {
       "dataGridStateBlob": "{\"version\":1,\"tableState\":{\"columnPinning\":{\"left\":[\"#row_number#\"],\"right\":[]},\"columnSizing\":{},\"columnVisibility\":{}},\"settings\":{\"columns\":{}},\"syncTimestamp\":1755780952166}",
       "filterBlob": null,
       "queryPlanFiltersBlob": null,
       "tableResultIndex": 0
      }
     },
     "title": ""
    }
   },
   "outputs": [],
   "source": [
    "%sql\n",
    "CREATE OR REPLACE TABLE datamodeling.gold.dimdirector\n",
    "WITH remdup AS\n",
    "(\n",
    "SELECT\n",
    "    DISTINCT(director)\n",
    "FROM datamodeling.silver.silver_source\n",
    ")\n",
    "SELECT *,\n",
    "   row_number() OVER(ORDER BY director) as DIMDIRECTORKEY\n",
    "FROM remdup\n",
    "   \n"
   ]
  },
  {
   "cell_type": "code",
   "execution_count": 0,
   "metadata": {
    "application/vnd.databricks.v1+cell": {
     "cellMetadata": {
      "byteLimit": 2048000,
      "implicitDf": true,
      "rowLimit": 10000
     },
     "inputWidgets": {},
     "nuid": "380a8d2f-8d19-4a05-b21b-a498b20c6971",
     "showTitle": false,
     "tableResultSettingsMap": {},
     "title": ""
    }
   },
   "outputs": [],
   "source": [
    "%sql\n",
    "CREATE OR REPLACE TABLE datamodeling.gold.dimcast\n",
    "WITH remdup AS\n",
    "(\n",
    "SELECT\n",
    "    DISTINCT(cast)\n",
    "FROM datamodeling.silver.silver_source\n",
    ")\n",
    "SELECT *,\n",
    "   row_number() OVER(ORDER BY cast) as DIMCASTKEY\n",
    "FROM remdup"
   ]
  },
  {
   "cell_type": "code",
   "execution_count": 0,
   "metadata": {
    "application/vnd.databricks.v1+cell": {
     "cellMetadata": {
      "byteLimit": 2048000,
      "implicitDf": true,
      "rowLimit": 10000
     },
     "inputWidgets": {},
     "nuid": "2753872c-adf7-45e3-b5ca-c473767eb973",
     "showTitle": false,
     "tableResultSettingsMap": {},
     "title": ""
    }
   },
   "outputs": [],
   "source": [
    "%sql\n",
    "CREATE OR REPLACE TABLE datamodeling.gold.dim_added_date\n",
    "WITH remdup AS\n",
    "(\n",
    "SELECT\n",
    "    DISTINCT(date_added)\n",
    "FROM datamodeling.silver.silver_source\n",
    ")\n",
    "SELECT *,\n",
    "   row_number() OVER(ORDER BY date_added) as DIMDATEKEY\n",
    "FROM remdup"
   ]
  },
  {
   "cell_type": "code",
   "execution_count": 0,
   "metadata": {
    "application/vnd.databricks.v1+cell": {
     "cellMetadata": {
      "byteLimit": 2048000,
      "implicitDf": true,
      "rowLimit": 10000
     },
     "inputWidgets": {},
     "nuid": "a577fed3-6076-4a5e-a18b-2ae1005936ad",
     "showTitle": false,
     "tableResultSettingsMap": {},
     "title": ""
    }
   },
   "outputs": [],
   "source": [
    "%sql\n",
    "CREATE OR REPLACE TABLE datamodeling.gold.dim_ratings\n",
    "WITH remdup AS\n",
    "(\n",
    "SELECT\n",
    "    DISTINCT(rating)\n",
    "FROM datamodeling.silver.silver_source\n",
    ")\n",
    "SELECT *,\n",
    "   row_number() OVER(ORDER BY rating) as DIMRATEKEY\n",
    "FROM remdup"
   ]
  },
  {
   "cell_type": "code",
   "execution_count": 0,
   "metadata": {
    "application/vnd.databricks.v1+cell": {
     "cellMetadata": {
      "byteLimit": 2048000,
      "implicitDf": true,
      "rowLimit": 10000
     },
     "inputWidgets": {},
     "nuid": "2e979299-6087-48c9-b505-5579a457624e",
     "showTitle": false,
     "tableResultSettingsMap": {},
     "title": ""
    }
   },
   "outputs": [],
   "source": [
    "%sql\n",
    "CREATE OR REPLACE TABLE datamodeling.gold.dimcountry\n",
    "WITH remdup AS\n",
    "(\n",
    "SELECT\n",
    "    DISTINCT(country)\n",
    "FROM datamodeling.silver.silver_source\n",
    ")\n",
    "SELECT *,\n",
    "   row_number() OVER(ORDER BY country) as DIMCOUNTRYKEY\n",
    "FROM remdup"
   ]
  },
  {
   "cell_type": "code",
   "execution_count": 0,
   "metadata": {
    "application/vnd.databricks.v1+cell": {
     "cellMetadata": {
      "byteLimit": 2048000,
      "implicitDf": true,
      "rowLimit": 10000
     },
     "inputWidgets": {},
     "nuid": "f0e9c5f6-3f2c-4a5f-8e0b-967ccbd58c87",
     "showTitle": false,
     "tableResultSettingsMap": {},
     "title": ""
    }
   },
   "outputs": [],
   "source": [
    "%sql\n",
    "CREATE OR REPLACE TABLE datamodeling.gold.dimaddinfo\n",
    "WITH remdup AS\n",
    "(\n",
    "SELECT\n",
    "    DISTINCT(date_added_clean),\n",
    "    ingestion_date,\n",
    "    source_file\n",
    "FROM datamodeling.silver.silver_source\n",
    ")\n",
    "SELECT *,\n",
    "   row_number() OVER(ORDER BY date_added_clean) as DIMADDINFOKEY\n",
    "FROM remdup"
   ]
  },
  {
   "cell_type": "code",
   "execution_count": 0,
   "metadata": {
    "application/vnd.databricks.v1+cell": {
     "cellMetadata": {
      "byteLimit": 2048000,
      "implicitDf": true,
      "rowLimit": 10000
     },
     "inputWidgets": {},
     "nuid": "5177fb0e-49a8-412c-8205-bb73743f8c3a",
     "showTitle": false,
     "tableResultSettingsMap": {
      "0": {
       "dataGridStateBlob": "{\"version\":1,\"tableState\":{\"columnPinning\":{\"left\":[\"#row_number#\"],\"right\":[]},\"columnSizing\":{},\"columnVisibility\":{}},\"settings\":{\"columns\":{}},\"syncTimestamp\":1755841817996}",
       "filterBlob": null,
       "queryPlanFiltersBlob": null,
       "tableResultIndex": 0
      }
     },
     "title": ""
    }
   },
   "outputs": [],
   "source": [
    "%sql\n",
    "CREATE OR REPLACE TABLE datamodeling.gold.dimmovieinfo\n",
    "SELECT \n",
    "row_number() OVER(ORDER BY show_id) as dimmoviekey,\n",
    "show_id,\n",
    "type,\n",
    "title,\n",
    "director,\n",
    "cast,\n",
    "country,\n",
    "date_added,\n",
    "rating,\n",
    "duration,\n",
    "listed_in,\n",
    "description,\n",
    "ingestion_date,\n",
    "source_file,\n",
    "duration_minutes,\n",
    "duration_seasons,\n",
    "date_added_clean\n",
    "from datamodeling.silver.silver_source"
   ]
  },
  {
   "cell_type": "code",
   "execution_count": 0,
   "metadata": {
    "application/vnd.databricks.v1+cell": {
     "cellMetadata": {
      "byteLimit": 2048000,
      "implicitDf": true,
      "rowLimit": 10000
     },
     "inputWidgets": {},
     "nuid": "4c66fecc-671d-4a88-99b9-6583ab6ade14",
     "showTitle": false,
     "tableResultSettingsMap": {},
     "title": ""
    }
   },
   "outputs": [],
   "source": [
    "%sql\n",
    "CREATE OR REPLACE TABLE datamodeling.gold.fact\n",
    "SELECT \n",
    "  S.release_year,\n",
    "  MI.dimmoviekey,\n",
    "  AI.DIMADDINFOKEY,\n",
    "  R.DIMRATEKEY,\n",
    "  C.DIMCOUNTRYKEY,\n",
    "  DA.DIMDATEKEY,\n",
    "  CA.DIMCASTKEY,\n",
    "  DR.DIMDIRECTORKEY,\n",
    "  D.DIMSHOWKEY\n",
    "FROM datamodeling.silver.silver_source S\n",
    "LEFT JOIN datamodeling.gold.dimshow D\n",
    "ON D.show_id = S.show_id\n",
    "LEFT JOIN datamodeling.gold.dimcountry C\n",
    "ON C.country = S.country\n",
    "LEFT JOIN datamodeling.gold.dim_ratings R\n",
    "ON R.rating = S.rating\n",
    "LEFT JOIN datamodeling.gold.dim_added_date DA\n",
    "ON DA.date_added = S.date_added\n",
    "LEFT JOIN datamodeling.gold.dimcast CA\n",
    "ON CA.cast = S.cast\n",
    "LEFT JOIN datamodeling.gold.dimdirector DR\n",
    "ON DR.director = S.director\n",
    "LEFT JOIN datamodeling.gold.dimaddinfo AI\n",
    "ON AI.date_added_clean = S.date_added_clean\n",
    "LEFT JOIN datamodeling.gold.dimmovieinfo MI\n",
    "ON MI.show_id = S.show_id"
   ]
  },
  {
   "cell_type": "code",
   "execution_count": 0,
   "metadata": {
    "application/vnd.databricks.v1+cell": {
     "cellMetadata": {},
     "inputWidgets": {},
     "nuid": "e3fc1f4f-f837-4ebc-9da0-4b6c35fcd017",
     "showTitle": false,
     "tableResultSettingsMap": {},
     "title": ""
    }
   },
   "outputs": [],
   "source": []
  }
 ],
 "metadata": {
  "application/vnd.databricks.v1+notebook": {
   "computePreferences": {
    "hardware": {
     "accelerator": null,
     "gpuPoolId": null,
     "memory": null
    }
   },
   "dashboards": [],
   "environmentMetadata": {
    "base_environment": "",
    "environment_version": "3"
   },
   "inputWidgetPreferences": null,
   "language": "python",
   "notebookMetadata": {
    "mostRecentlyExecutedCommandWithImplicitDF": {
     "commandId": 7120891481775300,
     "dataframes": [
      "_sqldf"
     ]
    },
    "pythonIndentUnit": 4
   },
   "notebookName": "gold",
   "widgets": {}
  },
  "language_info": {
   "name": "python"
  }
 },
 "nbformat": 4,
 "nbformat_minor": 0
}
